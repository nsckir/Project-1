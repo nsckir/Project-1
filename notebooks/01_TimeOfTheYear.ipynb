{
 "cells": [
  {
   "cell_type": "markdown",
   "id": "d04b87fc",
   "metadata": {
    "pycharm": {
     "name": "#%% md\n"
    }
   },
   "source": [
    "### Questions: Which time of the year is the busiest and how does it affect the prices?\n",
    "    "
   ]
  },
  {
   "cell_type": "code",
   "execution_count": 1,
   "id": "b6ca6c20",
   "metadata": {
    "pycharm": {
     "name": "#%%\n"
    }
   },
   "outputs": [],
   "source": [
    "import os\n",
    "import sys\n",
    "from pathlib import Path\n",
    "\n",
    "import chart_studio\n",
    "import chart_studio.plotly as py\n",
    "import pandas as pd\n",
    "import plotly.graph_objects as go\n",
    "from dotenv import load_dotenv\n",
    "from plotly.subplots import make_subplots\n",
    "\n",
    "%matplotlib inline\n",
    "\n",
    "pd.set_option('display.max_columns', 100)\n",
    "pd.set_option('display.max_rows', 100)\n",
    "\n",
    "\n"
   ]
  },
  {
   "cell_type": "code",
   "execution_count": 2,
   "id": "c3b7f3c6",
   "metadata": {
    "pycharm": {
     "name": "#%%\n"
    }
   },
   "outputs": [],
   "source": [
    "env_path = Path('.') / '.env'\n",
    "load_dotenv(dotenv_path=env_path)\n",
    "\n",
    "username = os.environ.get('PLOTLY_USER')\n",
    "api_key = os.environ.get('PLOTLY_TOKEN')\n",
    "\n",
    "chart_studio.tools.set_credentials_file(username=username, api_key=api_key)\n"
   ]
  },
  {
   "cell_type": "code",
   "execution_count": null,
   "outputs": [],
   "source": [
    "def plot_multi(df, x, y1, y2):\n",
    "    \"\"\"Plot a chart with 2 y axes.\n",
    "    \n",
    "    Args:\n",
    "        df: dataframe\n",
    "        x: name of the x column\n",
    "        y1: name of the 1st y column\n",
    "        y2: name of the 2nd y column\n",
    "\n",
    "    Returns:\n",
    "        figure\n",
    "\n",
    "    \"\"\"\n",
    "    # Create figure with secondary y-axis\n",
    "    fig = make_subplots(specs=[[{\"secondary_y\": True}]])\n",
    "\n",
    "    # Add traces\n",
    "    fig.add_trace(\n",
    "        go.Scatter(x=df[x], y=df[y1], name=y1),\n",
    "        secondary_y=False,\n",
    "    )\n",
    "\n",
    "    fig.add_trace(\n",
    "        go.Scatter(x=df[x], y=df[y2], name=y2),\n",
    "        secondary_y=True,\n",
    "    )\n",
    "\n",
    "\n",
    "    # Set x-axis title\n",
    "    fig.update_xaxes(title_text=x)\n",
    "\n",
    "    # Set y-axes titles\n",
    "    fig.update_yaxes(title_text=y1, secondary_y=False)\n",
    "    fig.update_yaxes(title_text=y2, secondary_y=True)\n",
    "    \n",
    "    \n",
    "\n",
    "    fig.show()\n",
    "    return fig"
   ],
   "metadata": {
    "collapsed": false,
    "pycharm": {
     "name": "#%%\n"
    }
   }
  },
  {
   "cell_type": "code",
   "execution_count": null,
   "outputs": [],
   "source": [
    "df = pd.read_csv('../data/seattle/calendar.csv')\n",
    "#Quick glimpse at the data\n",
    "df.head()"
   ],
   "metadata": {
    "collapsed": false,
    "pycharm": {
     "name": "#%%\n"
    }
   }
  },
  {
   "cell_type": "code",
   "execution_count": null,
   "outputs": [],
   "source": [
    "#Size of the data set\n",
    "df.shape"
   ],
   "metadata": {
    "collapsed": false,
    "pycharm": {
     "name": "#%%\n"
    }
   }
  },
  {
   "cell_type": "code",
   "execution_count": null,
   "outputs": [],
   "source": [
    "#Looks like we have to transform the columns to the appropriate data types\n",
    "df.dtypes"
   ],
   "metadata": {
    "collapsed": false,
    "pycharm": {
     "name": "#%%\n"
    }
   }
  },
  {
   "cell_type": "code",
   "execution_count": null,
   "outputs": [],
   "source": [
    "#Check if any values are missing. Luckily only some prices are missing due to availability\n",
    "df.isnull().sum()"
   ],
   "metadata": {
    "collapsed": false,
    "pycharm": {
     "name": "#%%\n"
    }
   }
  },
  {
   "cell_type": "code",
   "execution_count": null,
   "outputs": [],
   "source": [
    "#Check if there are rows with price and no availability or vice versa\n",
    "df[(df['available']=='t') & pd.isna(df['price'])]"
   ],
   "metadata": {
    "collapsed": false,
    "pycharm": {
     "name": "#%%\n"
    }
   }
  },
  {
   "cell_type": "code",
   "execution_count": null,
   "outputs": [],
   "source": [
    "df[(df['available']=='f') & (pd.isna(df['price'])==False)]"
   ],
   "metadata": {
    "collapsed": false,
    "pycharm": {
     "name": "#%%\n"
    }
   }
  },
  {
   "cell_type": "code",
   "execution_count": null,
   "outputs": [],
   "source": [
    "#Check how many unique values in each column\n",
    "df.nunique()"
   ],
   "metadata": {
    "collapsed": false,
    "pycharm": {
     "name": "#%%\n"
    }
   }
  },
  {
   "cell_type": "code",
   "execution_count": null,
   "outputs": [],
   "source": [
    "#Check if every listing has the same number of dates.\n",
    "df.groupby('listing_id')['date'].count().unique()"
   ],
   "metadata": {
    "collapsed": false,
    "pycharm": {
     "name": "#%%\n"
    }
   }
  },
  {
   "cell_type": "markdown",
   "source": [
    "Looks like the data set is very clean and well-prepared. Now we should convert the 'date', 'available' and 'price' columns to the appropriate data types."
   ],
   "metadata": {
    "collapsed": false,
    "pycharm": {
     "name": "#%% md\n"
    }
   }
  },
  {
   "cell_type": "code",
   "execution_count": null,
   "outputs": [],
   "source": [
    "bool_mapping = {'t':True, 'f':False}\n",
    "\n",
    "df['available'] = df['available'].map(bool_mapping) \n",
    "df['date'] = pd.to_datetime(df['date'])\n",
    "df['price'] = df['price'].replace('[$,]', '', regex=True).astype(float)\n",
    "\n",
    "df.dtypes"
   ],
   "metadata": {
    "collapsed": false,
    "pycharm": {
     "name": "#%%\n"
    }
   }
  },
  {
   "cell_type": "markdown",
   "source": [
    "Now we are ready to do some analysis"
   ],
   "metadata": {
    "collapsed": false,
    "pycharm": {
     "name": "#%% md\n"
    }
   }
  },
  {
   "cell_type": "code",
   "execution_count": null,
   "outputs": [],
   "source": [
    "#Let's take a look at daily averaged values data.\n",
    "group_col = 'date'\n",
    "agg_col1 = 'price'\n",
    "agg_col2 = 'available'\n",
    "\n",
    "daily_df = (df.groupby(group_col).agg({agg_col1: 'mean',\n",
    "                                       agg_col2: 'mean'}))\n",
    "\n",
    "daily_df = daily_df.reset_index()\n",
    "x = 'Date'\n",
    "y_1 = 'Average Price'\n",
    "y_2 = 'Available Listings'\n",
    "daily_df = daily_df.rename(columns={group_col: x, agg_col1: y_1, agg_col2: y_2})\n",
    "\n",
    "fig = plot_multi(daily_df, x, y_1, y_2)\n",
    "py.plot(fig, filename='daily_price_and_availability', auto_open = False)\n"
   ],
   "metadata": {
    "collapsed": false,
    "pycharm": {
     "name": "#%%\n"
    }
   }
  },
  {
   "cell_type": "markdown",
   "source": [
    "This looks odd. Looks like a bunch of listings become unavailable approx. on the 1st of April and on the 1st of July. The data file \"listings\" has a column \"last_scraped\" with the value Jan 4th 2016. I assume that the file \"calendar\" was scraped at the same date. Considering this the data makes sense, since Airbnb has an option for the hosts to open a booking calendar for 3, 6 or 12 months in the future. So those listings are not booked, they are just not available for booking at the beginning of the year.\n",
    "\n",
    "The fact, that the booking calendar was scraped in the beginning of the year makes the pricing and availability data less interesting since those will change drastically as the year passes.\n",
    "\n",
    "Another thing that strikes the eye is that the price oscillates on a weekly basis. I assume that the prices are higher on the weekend.\n",
    "\n",
    "The average price is higher in the summer than in the winter. However, it does not come down to the same level by the end of the year. I would not read too much into it because it is not the final data. Airbnb also has an option for the hosts to adjust the price automatically based on current demand."
   ],
   "metadata": {
    "collapsed": false,
    "pycharm": {
     "name": "#%% md\n"
    }
   }
  },
  {
   "cell_type": "code",
   "execution_count": null,
   "outputs": [],
   "source": [
    "#Let's exclude the listing with partial availability calendars and look at the data again.\n",
    "\n",
    "#Check which 2 dates have the 2 big drops in availability.\n",
    "(df[df['available']==True].groupby('listing_id')\n",
    "                          .agg({'date':'max'})\n",
    "                          .groupby('date')\n",
    "                          .agg(count=('date','count'))\n",
    "                          .sort_values(by='count', ascending=False)\n",
    "                          .head()\n",
    ")"
   ],
   "metadata": {
    "collapsed": false,
    "pycharm": {
     "name": "#%%\n"
    }
   }
  },
  {
   "cell_type": "code",
   "execution_count": null,
   "outputs": [],
   "source": [
    "#Get the latest available date for each listing\n",
    "last_avail_df = (df[df['available']==True].groupby('listing_id').agg({'date':'max'}))\n",
    "\n",
    "#Listings which are not limited to 3 or 6 months availability\n",
    "last_avail_eoy_df = last_avail_df[(last_avail_df['date']!= '2016-04-01') & (last_avail_df['date']!= '2016-06-30')]\n",
    "\n",
    "eoy_listings = last_avail_eoy_df.index.to_list()\n",
    "\n",
    "#Exclude the listing which are limited to 3 or 6 months availability and plot a daily chart.\n",
    "\n",
    "eoy_df = df[df['listing_id'].isin(eoy_listings)]\n"
   ],
   "metadata": {
    "collapsed": false,
    "pycharm": {
     "name": "#%%\n"
    }
   }
  },
  {
   "cell_type": "code",
   "execution_count": null,
   "outputs": [],
   "source": [
    "#Calculate daily averages\n",
    "\n",
    "daily_eoy_df = (eoy_df.groupby(group_col).agg({agg_col1: 'mean', agg_col2: 'mean'}))\n",
    "\n",
    "daily_eoy_df = daily_eoy_df.reset_index()\n",
    "daily_eoy_df = daily_eoy_df.rename(columns={group_col: x, agg_col1: y_1, agg_col2: y_2})\n",
    "\n",
    "fig = plot_multi(daily_eoy_df, x, y_1, y_2)\n",
    "py.plot(fig, filename='daily_price_and_availability_fixed', auto_open = False)\n"
   ],
   "metadata": {
    "collapsed": false,
    "pycharm": {
     "name": "#%%\n"
    }
   }
  },
  {
   "cell_type": "markdown",
   "source": [
    "It looks much smoother now. The availability plot still does not tell us which time of the year is the busiest since the data was scraped in the beginning of the year. The plot goes more or less asymptotically against 1 with a slight dip in the summer months.\n",
    "\n",
    "One can also see that the availability oscillates on the weekly basis but the further in to the future the smaller this oscillation becomes until it is not visible anymore. I assume that in the near future there are more short term bookings on the weekends which is not the case if we look at the data 6+ months in the future."
   ],
   "metadata": {
    "collapsed": false,
    "pycharm": {
     "name": "#%% md\n"
    }
   }
  },
  {
   "cell_type": "code",
   "execution_count": null,
   "outputs": [],
   "source": [
    "group_col = df['date'].dt.weekday\n",
    "\n",
    "weekday_df = (df.groupby(group_col).agg({agg_col1: 'mean', agg_col2: 'mean'}))\n",
    "\n",
    "weekday_df = weekday_df.reset_index()\n",
    "x = 'Weekday'\n",
    "weekday_df[x] = ['Monday','Tuesday','Wednesday','Thursday','Friday','Saturday', 'Sunday']\n",
    "weekday_df = weekday_df.rename(columns={agg_col1: y_1, agg_col2: y_2})\n",
    "\n",
    "fig = plot_multi(weekday_df, x, y_1, y_2)\n",
    "py.plot(fig, filename='dow_price_and_availability', auto_open = False)\n"
   ],
   "metadata": {
    "collapsed": false,
    "pycharm": {
     "name": "#%%\n"
    }
   }
  },
  {
   "cell_type": "markdown",
   "source": [
    "As expected the prices are highest and availability is the lowest on the weekends. This is just a qualitative check since the data is not final."
   ],
   "metadata": {
    "collapsed": false,
    "pycharm": {
     "name": "#%% md\n"
    }
   }
  },
  {
   "cell_type": "code",
   "execution_count": null,
   "outputs": [],
   "source": [
    "#Additionally we can look at the monthly averaged values and add the average air temperature in Seattle to the chart.\n",
    "x = \"Date\"\n",
    "group_col = [pd.Grouper(key=x, freq='MS', sort=True, label='left', closed='left')]\n",
    "\n",
    "monthly_df = (daily_eoy_df.groupby(group_col).agg({y_1: 'mean'}))\n",
    "\n",
    "monthly_df = monthly_df.reset_index()\n",
    "y_2 = 'Temperature'\n",
    "\n",
    "monthly_df[y_2] = [8, 10, 12, 15, 18, 20, 23, 23, 20, 15, 10, 7, 8] #Source: NOAA\n",
    "\n",
    "\n",
    "fig = plot_multi(monthly_df, x, y_1, y_2)\n",
    "py.plot(fig, filename='monthly_price_and_temperature', auto_open = False)"
   ],
   "metadata": {
    "collapsed": false,
    "pycharm": {
     "name": "#%%\n"
    }
   }
  }
 ],
 "metadata": {
  "kernelspec": {
   "display_name": "Python 3 (ipykernel)",
   "language": "python",
   "name": "python3"
  },
  "language_info": {
   "codemirror_mode": {
    "name": "ipython",
    "version": 3
   },
   "file_extension": ".py",
   "mimetype": "text/x-python",
   "name": "python",
   "nbconvert_exporter": "python",
   "pygments_lexer": "ipython3",
   "version": "3.9.13"
  }
 },
 "nbformat": 4,
 "nbformat_minor": 5
}